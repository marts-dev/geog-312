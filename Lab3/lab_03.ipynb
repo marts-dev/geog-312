{
  "cells": [
    {
      "cell_type": "markdown",
      "id": "0",
      "metadata": {
        "id": "0"
      },
      "source": [
        "# Lab 3\n",
        "\n",
        "[![Open In Colab](https://colab.research.google.com/assets/colab-badge.svg)](https://colab.research.google.com/github/giswqs/geog-312/blob/main/book/labs/lab_03.ipynb)\n",
        "\n",
        "This notebook contains exercises based on the lectures on [**Functions and Classes**](https://geog-312.gishub.org/book/python/06_functions_classes.html) and [**Files and Exception Handling**](https://geog-312.gishub.org/book/python/07_files.html). These exercises will help reinforce the concepts of functions, classes, file handling, and exception management in geospatial contexts."
      ]
    },
    {
      "cell_type": "markdown",
      "id": "1",
      "metadata": {
        "id": "1"
      },
      "source": [
        "## Exercise 1: Calculating Distances with Functions\n",
        "\n",
        "- Define a function `calculate_distance` that takes two geographic coordinates (latitude and longitude) and returns the distance between them using the Haversine formula.\n",
        "- Use this function to calculate the distance between multiple pairs of coordinates."
      ]
    },
    {
      "cell_type": "code",
      "execution_count": 1,
      "id": "2",
      "metadata": {
        "id": "2"
      },
      "outputs": [
        {
          "data": {
            "text/plain": [
              "347.32834803942626"
            ]
          },
          "execution_count": 1,
          "metadata": {},
          "output_type": "execute_result"
        }
      ],
      "source": [
        "def calculate_distance(coord1, coord2):\n",
        "  # Calculate the distance between two points on the earth\n",
        "  # The latitude and longitude are in degrees\n",
        "  # The return value is in kilometers\n",
        "  # The formula is based on the Haversine formula\n",
        "  # https://en.wikipedia.org/wiki/Haversine_formula\n",
        "  # The radius of the earth is 6371 km\n",
        "  import math\n",
        "  # Convert latitude and longitude from degrees to radians\n",
        "  lat1, lat2, lon1, lon2 = map(math.radians, [coord1[0], coord2[0], coord1[1], coord2[1]])\n",
        "\n",
        "  # Calculate the differences\n",
        "  delta_latitude = lat2 - lat1\n",
        "  delta_longitude = lon2 - lon1\n",
        "  # Calculate the distance\n",
        "  a = math.sin(delta_latitude / 2) ** 2 + math.cos(lat1) * math.cos(lat2) * math.sin(delta_longitude / 2) ** 2\n",
        "  c = 2 * math.atan2(math.sqrt(a), math.sqrt(1 - a))\n",
        "  distance = 6371 * c\n",
        "  return distance\n",
        "\n",
        "calculate_distance((41.507483, -99.436554), (38.504048, -98.315949))"
      ]
    },
    {
      "cell_type": "markdown",
      "id": "3",
      "metadata": {
        "id": "3"
      },
      "source": [
        "## Exercise 2: Batch Distance Calculation\n",
        "\n",
        "- Create a function `batch_distance_calculation` that accepts a list of coordinate pairs and returns a list of distances between consecutive pairs.\n",
        "- Test the function with a list of coordinates representing several cities."
      ]
    },
    {
      "cell_type": "code",
      "execution_count": 2,
      "id": "4",
      "metadata": {
        "id": "4"
      },
      "outputs": [
        {
          "data": {
            "text/plain": [
              "[347.32834803942626, 347.32834803942626]"
            ]
          },
          "execution_count": 2,
          "metadata": {},
          "output_type": "execute_result"
        }
      ],
      "source": [
        "def batch_distance_calculator(coords):\n",
        "  # Calculate the distance between a list of coordinates\n",
        "  # The input is a list of coordinates\n",
        "  # The return value is a list of lists of distances\n",
        "  distances = []\n",
        "  for coord_pair in coords:\n",
        "    distance = calculate_distance(coord_pair[0], coord_pair[1])\n",
        "    distances.append(distance)\n",
        "\n",
        "  return distances\n",
        "\n",
        "batch_distance_calculator([[(41.507483, -99.436554), (38.504048, -98.315949)], [(41.507483, -99.436554), (38.504048, -98.315949)]])"
      ]
    },
    {
      "cell_type": "markdown",
      "id": "5",
      "metadata": {
        "id": "5"
      },
      "source": [
        "## Exercise 3: Creating and Using a Point Class\n",
        "\n",
        "- Define a `Point` class to represent a geographic point with attributes `latitude`, `longitude`, and `name`.\n",
        "- Add a method `distance_to` that calculates the distance from one point to another.\n",
        "- Instantiate several `Point` objects and calculate the distance between them."
      ]
    },
    {
      "cell_type": "code",
      "execution_count": 3,
      "id": "6",
      "metadata": {
        "id": "6"
      },
      "outputs": [
        {
          "data": {
            "text/plain": [
              "347.32834803942626"
            ]
          },
          "execution_count": 3,
          "metadata": {},
          "output_type": "execute_result"
        }
      ],
      "source": [
        "class Point:\n",
        "  def __init__(self, lat, lon, name):\n",
        "    self.lat = lat\n",
        "    self.lon = lon\n",
        "    self.name = name\n",
        "\n",
        "  def __str__(self):\n",
        "    return f\"{self.name or 'Point'} ({self.latitude}, {self.longitude})\"\n",
        "\n",
        "  def distance_to(self, other):\n",
        "    return calculate_distance((self.lat, self.lon), (other.lat, other.lon))\n",
        "  \n",
        "p1 = Point(41.507483, -99.436554, \"Lincoln, NE\")\n",
        "p2 = Point(38.504048, -98.315949, \"Hays, KS\")\n",
        "\n",
        "p1.distance_to(p2)"
      ]
    },
    {
      "cell_type": "markdown",
      "id": "7",
      "metadata": {
        "id": "7"
      },
      "source": [
        "## Exercise 4: Reading and Writing Files\n",
        "\n",
        "- Write a function `read_coordinates` that reads a file containing a list of coordinates (latitude, longitude) and returns them as a list of tuples.\n",
        "- Write another function `write_coordinates` that takes a list of coordinates and writes them to a new file.\n",
        "- Ensure that both functions handle exceptions, such as missing files or improperly formatted data."
      ]
    },
    {
      "cell_type": "code",
      "execution_count": 4,
      "id": "8",
      "metadata": {
        "id": "8"
      },
      "outputs": [],
      "source": [
        "def read_coordinates(file_name):\n",
        "  # Read a file with coordinates\n",
        "  # The file should have one coordinate per line\n",
        "  # The coordinates should be in the format \"latitude, longitude\"\n",
        "  # The return value is a list of coordinates\n",
        "  coords = []\n",
        "  try:\n",
        "    with open(file_name, \"r\") as file:\n",
        "      for line in file.readlines():\n",
        "        lat, lon = line.strip().split(\",\")\n",
        "        coords.append((float(lat), float(lon)))\n",
        "  except FileNotFoundError:\n",
        "    print(f\"File {file_name} not found\")\n",
        "  except Exception as e:\n",
        "    print(f\"An unexpected error occurred while processing the file: {e}\")\n",
        "  finally:\n",
        "    print(f\"Finished processing {file_name}\")\n",
        "\n",
        "  return coords\n",
        "\n",
        "def write_coordinates(file_name, coords):\n",
        "  # Write a list of coordinates to a file\n",
        "  # The coordinates should be in the format \"latitude, longitude\"\n",
        "  try:\n",
        "    with open(file_name, \"w\") as file:\n",
        "      for coord in coords:\n",
        "        file.write(f\"{coord[0]}, {coord[1]}\\n\")\n",
        "  except FileNotFoundError:\n",
        "    print(f\"File {file_name} not found\")\n",
        "  except Exception as e:\n",
        "    print(f\"An unexpected error occurred while processing the file: {e}\")\n",
        "  finally:\n",
        "    print(f\"Finished processing {file_name}\")"
      ]
    },
    {
      "cell_type": "markdown",
      "id": "9",
      "metadata": {
        "id": "9"
      },
      "source": [
        "## Exercise 5: Processing Coordinates from a File\n",
        "\n",
        "- Create a function that reads coordinates from a file and uses the `Point` class to create `Point` objects.\n",
        "- Calculate the distance between each consecutive pair of points and write the results to a new file.\n",
        "- Ensure the function handles file-related exceptions and gracefully handles improperly formatted lines."
      ]
    },
    {
      "cell_type": "code",
      "execution_count": 11,
      "id": "10",
      "metadata": {
        "id": "10"
      },
      "outputs": [
        {
          "name": "stdout",
          "output_type": "stream",
          "text": [
            "Sample file 'coordinates.txt' has been created successfully.\n"
          ]
        }
      ],
      "source": [
        "# Create a sample coordinates.txt file\n",
        "sample_data = \"\"\"41.507483, -99.436554\n",
        "38.504048, -98.315949\n",
        "35.6895,139.6917\n",
        "34.0522,-118.2437\n",
        "51.5074,-0.1278\n",
        "-33.8688,151.2093\n",
        "48.8566,2.3522\"\"\"\n",
        "\n",
        "output_file = \"coordinates.txt\"\n",
        "\n",
        "try:\n",
        "    with open(output_file, \"w\") as file:\n",
        "        file.write(sample_data)\n",
        "    print(f\"Sample file '{output_file}' has been created successfully.\")\n",
        "except Exception as e:\n",
        "    print(f\"An error occurred while creating the file: {e}\")"
      ]
    },
    {
      "cell_type": "code",
      "execution_count": 12,
      "id": "11",
      "metadata": {
        "id": "11"
      },
      "outputs": [
        {
          "name": "stdout",
          "output_type": "stream",
          "text": [
            "Finished processing coordinates.txt\n",
            "The distance between  and  is 347.3283 km\n",
            "The distance between  and  is 9838.9310 km\n",
            "The distance between  and  is 8815.4734 km\n",
            "The distance between  and  is 8755.6023 km\n",
            "The distance between  and  is 16993.9335 km\n",
            "The distance between  and  is 16960.4974 km\n",
            "Finished creating distances.txt\n"
          ]
        }
      ],
      "source": [
        "def process_coordinates(input_file, output_file):\n",
        "  try:\n",
        "    with open(output_file, \"w\") as file:\n",
        "      # Read coordinates from an input file\n",
        "      coords = read_coordinates(input_file)\n",
        "      # Create Points from the coordinates\n",
        "      prev = None # Store temp point\n",
        "      distances = [] # Store distances\n",
        "      for coord in coords:\n",
        "        p = Point(coord[0], coord[1], \"\")\n",
        "        if prev is not None:\n",
        "          distance = prev.distance_to(p)\n",
        "          print(f\"The distance between {prev.name} and {p.name} is {distance:.4f} km\")\n",
        "          file.write(f\"{distance}\\n\")\n",
        "        prev = p\n",
        "  except FileNotFoundError:\n",
        "    print(f\"File {output_file} not found\")\n",
        "  except Exception as e:\n",
        "    print(f\"An unexpected error occurred while processing the file: {e}\")\n",
        "  finally:\n",
        "    print(f\"Finished creating {output_file}\")\n",
        "\n",
        "process_coordinates(\"coordinates.txt\", \"distances.txt\")"
      ]
    },
    {
      "cell_type": "markdown",
      "id": "12",
      "metadata": {
        "id": "12"
      },
      "source": [
        "## Exercise 6: Exception Handling in Data Processing\n",
        "\n",
        "- Modify the `batch_distance_calculation` function to handle exceptions that might occur during the calculation, such as invalid coordinates.\n",
        "- Ensure the function skips invalid data and continues processing the remaining data."
      ]
    },
    {
      "cell_type": "code",
      "execution_count": 14,
      "id": "13",
      "metadata": {
        "id": "13"
      },
      "outputs": [
        {
          "name": "stdout",
          "output_type": "stream",
          "text": [
            "Invalid coordinates: [(141.507483, -99.436554), (38.504048, -98.315949)]\n"
          ]
        },
        {
          "data": {
            "text/plain": [
              "[347.32834803942626, 347.32834803942626]"
            ]
          },
          "execution_count": 14,
          "metadata": {},
          "output_type": "execute_result"
        }
      ],
      "source": [
        "def batch_distance_calculator(coords):\n",
        "  def valid_coordinates(lat, lon):\n",
        "    if lat > 90 or lat < -90 or lon > 180 or lon < -180:\n",
        "      return False\n",
        "    return True\n",
        "  # Calculate the distance between a list of coordinates\n",
        "  # The input is a list of coordinates\n",
        "  # The return value is a list of lists of distances\n",
        "  distances = []\n",
        "  for coord_pair in coords:\n",
        "    lat1, lon1 = coord_pair[0][0], coord_pair[0][1]\n",
        "    lat2, lon2 = coord_pair[0][0], coord_pair[0][1]\n",
        "    if not valid_coordinates(lat1, lon1) or not valid_coordinates(lat2, lon2):\n",
        "      print(f\"Invalid coordinates: {coord_pair}\")\n",
        "      continue\n",
        "    distance = calculate_distance(coord_pair[0], coord_pair[1])\n",
        "    distances.append(distance)\n",
        "\n",
        "  return distances\n",
        "\n",
        "batch_distance_calculator([[(41.507483, -99.436554), (38.504048, -98.315949)], [(41.507483, -99.436554), (38.504048, -98.315949)], [(141.507483, -99.436554), (38.504048, -98.315949)]])"
      ]
    },
    {
      "cell_type": "code",
      "execution_count": null,
      "id": "e31377a8",
      "metadata": {},
      "outputs": [],
      "source": []
    }
  ],
  "metadata": {
    "colab": {
      "provenance": []
    },
    "kernelspec": {
      "display_name": "OpenGeo",
      "language": "python",
      "name": "python3"
    },
    "language_info": {
      "codemirror_mode": {
        "name": "ipython",
        "version": 3
      },
      "file_extension": ".py",
      "mimetype": "text/x-python",
      "name": "python",
      "nbconvert_exporter": "python",
      "pygments_lexer": "ipython3",
      "version": "3.11.10"
    }
  },
  "nbformat": 4,
  "nbformat_minor": 5
}
