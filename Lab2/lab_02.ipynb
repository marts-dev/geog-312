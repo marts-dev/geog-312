{
  "cells": [
    {
      "cell_type": "markdown",
      "id": "0",
      "metadata": {
        "id": "0"
      },
      "source": [
        "# Lab 2\n",
        "\n",
        "[![Open In Colab](https://colab.research.google.com/assets/colab-badge.svg)](https://colab.research.google.com/github/giswqs/geog-312/blob/main/book/labs/lab_02.ipynb)\n",
        "\n",
        "This notebook contains exercises based on the lectures on [**String Operations**](https://geog-312.gishub.org/book/python/04_string_operations.html) and [**Looping and Control Statements**](https://geog-312.gishub.org/book/python/05_looping.html). These exercises will help reinforce the concepts of string manipulation, loops, and conditionals in geospatial contexts."
      ]
    },
    {
      "cell_type": "markdown",
      "id": "1",
      "metadata": {
        "id": "1"
      },
      "source": [
        "## Exercise 1: Manipulating Geographic Location Strings\n",
        "\n",
        "- Create a string that represents the name of a geographic feature (e.g., `\"Amazon River\"`).\n",
        "- Convert the string to lowercase and then to uppercase.\n",
        "- Concatenate the string with the name of the country (e.g., `\"Brazil\"`) to create a full location name.\n",
        "- Repeat the string three times, separating each repetition with a dash (`-`)."
      ]
    },
    {
      "cell_type": "code",
      "execution_count": 3,
      "id": "2",
      "metadata": {
        "id": "2"
      },
      "outputs": [
        {
          "name": "stdout",
          "output_type": "stream",
          "text": [
            "amazon river\n",
            "AMAZON RIVER\n",
            "Amazon River, Brazil - Amazon River, Brazil - Amazon River, Brazil"
          ]
        }
      ],
      "source": [
        "geo_feat = \"Amazon River\"\n",
        "print(geo_feat.lower())\n",
        "print(geo_feat.upper())\n",
        "geo_feat = geo_feat + \", Brazil\"\n",
        "for i in range(3):\n",
        "  if i == 0:\n",
        "    print(geo_feat, end=\"\")\n",
        "  else:\n",
        "    print(\" - \"+geo_feat, end=\"\")"
      ]
    },
    {
      "cell_type": "markdown",
      "id": "3",
      "metadata": {
        "id": "3"
      },
      "source": [
        "## Exercise 2: Extracting and Formatting Coordinates\n",
        "\n",
        "- Given a string with the format `\"latitude, longitude\"` (e.g., `\"40.7128N, 74.0060W\"`), extract the numeric values of latitude and longitude.\n",
        "- Convert these values to floats and remove the directional indicators (`N`, `S`, `E`, `W`).\n",
        "- Format the coordinates into a `POINT` WKT string (e.g., `\"POINT(-74.0060 40.7128)\"`)."
      ]
    },
    {
      "cell_type": "code",
      "execution_count": 4,
      "id": "4",
      "metadata": {
        "id": "4"
      },
      "outputs": [
        {
          "name": "stdout",
          "output_type": "stream",
          "text": [
            "POINT(40.7128 74.006)\n"
          ]
        }
      ],
      "source": [
        "lat_long = \"40.7128N, 74.0060W\"\n",
        "lat, lon = lat_long.split(\", \")\n",
        "fl_lat = float(lat[:-1])\n",
        "fl_lon = float(lon[:-1])\n",
        "print(f\"POINT({fl_lat} {fl_lon})\")"
      ]
    },
    {
      "cell_type": "markdown",
      "id": "5",
      "metadata": {
        "id": "5"
      },
      "source": [
        "## Exercise 3: Building Dynamic SQL Queries\n",
        "\n",
        "- Given a table name and a condition, dynamically build an SQL query string.\n",
        "- Example: If `table_name = \"cities\"` and `condition = \"population > 1000000\"`, the query should be `\"SELECT * FROM cities WHERE population > 1000000;\"`.\n",
        "- Add additional conditions dynamically, like `AND` clauses."
      ]
    },
    {
      "cell_type": "code",
      "execution_count": 6,
      "id": "6",
      "metadata": {
        "id": "6"
      },
      "outputs": [
        {
          "name": "stdout",
          "output_type": "stream",
          "text": [
            "SELECT * FROM cities WHERE population > 1000000 AND country = 'USA' OR country = 'Canada'\n"
          ]
        }
      ],
      "source": [
        "table_name = \"cities\"\n",
        "condition = \"population > 1000000\"\n",
        "additional_condition = [\"AND country = 'USA'\", \"OR country = 'Canada'\"]\n",
        "query = f\"SELECT * FROM {table_name} WHERE {condition} {' '.join(additional_condition)}\"\n",
        "print(query)"
      ]
    },
    {
      "cell_type": "markdown",
      "id": "7",
      "metadata": {
        "id": "7"
      },
      "source": [
        "## Exercise 4: String Normalization and Cleaning\n",
        "\n",
        "- Given a list of city names with inconsistent formatting (e.g., `[\" new york \", \"Los ANGELES\", \"   CHICAGO\"]`), normalize the names by:\n",
        "  - Stripping any leading or trailing whitespace.\n",
        "  - Converting them to title case (e.g., `\"New York\"`, `\"Los Angeles\"`, `\"Chicago\"`).\n",
        "- Ensure that the output is a clean list of city names."
      ]
    },
    {
      "cell_type": "code",
      "execution_count": 8,
      "id": "8",
      "metadata": {
        "id": "8"
      },
      "outputs": [
        {
          "name": "stdout",
          "output_type": "stream",
          "text": [
            "['New York', 'Los Angeles', 'Chicago']\n"
          ]
        }
      ],
      "source": [
        "city_names = [\" new york \", \"Los ANGELES\", \"   CHICAGO\"]\n",
        "\n",
        "for i, city in enumerate(city_names):\n",
        "  city_names[i] = city.title().strip()\n",
        "print(city_names)"
      ]
    },
    {
      "cell_type": "markdown",
      "id": "9",
      "metadata": {
        "id": "9"
      },
      "source": [
        "## Exercise 5: Parsing and Extracting Address Information\n",
        "\n",
        "- Given a string in the format `\"Street, City, Country\"` (e.g., `\"123 Main St, Springfield, USA\"`), write a function that parses the string into a dictionary with keys `street`, `city`, and `country`.\n",
        "- The function should return a dictionary like `{\"street\": \"123 Main St\", \"city\": \"Springfield\", \"country\": \"USA\"}`."
      ]
    },
    {
      "cell_type": "code",
      "execution_count": 10,
      "id": "10",
      "metadata": {
        "id": "10"
      },
      "outputs": [
        {
          "data": {
            "text/plain": [
              "{'street': '200 S Wacker Dr', 'city': 'Chicago', 'country': 'USA'}"
            ]
          },
          "execution_count": 10,
          "metadata": {},
          "output_type": "execute_result"
        }
      ],
      "source": [
        "def parse_address(address):\n",
        "  address = address.split(\", \")\n",
        "  street = address[0]\n",
        "  city = address[1]\n",
        "  country = address[2]\n",
        "  return {\"street\": street, \"city\": city, \"country\": country}\n",
        "\n",
        "parse_address(\"200 S Wacker Dr, Chicago, USA\")"
      ]
    },
    {
      "cell_type": "markdown",
      "id": "11",
      "metadata": {
        "id": "11"
      },
      "source": [
        "## Exercise 6: Using For Loops to Process Coordinate Lists\n",
        "\n",
        "- Create a list of tuples representing coordinates (latitude, longitude).\n",
        "- Write a `for` loop that prints each coordinate and indicates whether it is in the Northern or Southern Hemisphere based on the latitude."
      ]
    },
    {
      "cell_type": "code",
      "execution_count": 2,
      "id": "12",
      "metadata": {
        "id": "12"
      },
      "outputs": [
        {
          "name": "stdout",
          "output_type": "stream",
          "text": [
            "The latitude of 40.7128 is in the Northern Hemisphere\n",
            "The latitude of -34.0522 is in the Southern Hemisphere\n",
            "The latitude of 41.8781 is in the Northern Hemisphere\n"
          ]
        }
      ],
      "source": [
        "coords = [(40.7128, 74.0060), (-34.0522, 118.2437), (41.8781, 87.6298)]\n",
        "for i, coord in enumerate(coords):\n",
        "  lat, lon = coord\n",
        "  if lat > 0:\n",
        "    print(f\"The latitude of {lat} is in the Northern Hemisphere\")\n",
        "  elif lat < 0:\n",
        "    print(f\"The latitude of {lat} is in the Southern Hemisphere\")\n",
        "  else:\n",
        "    print(f\"The latitude of {lat} is on the Equator\")"
      ]
    },
    {
      "cell_type": "markdown",
      "id": "13",
      "metadata": {
        "id": "13"
      },
      "source": [
        "## Exercise 7: While Loops for Iterative Processing\n",
        "\n",
        "- Create a list of coordinates (latitude, longitude).\n",
        "- Write a `while` loop that continues to print each coordinate until it encounters a coordinate with a negative latitude.\n",
        "- Stop the loop once this condition is met."
      ]
    },
    {
      "cell_type": "code",
      "execution_count": 3,
      "id": "14",
      "metadata": {
        "id": "14"
      },
      "outputs": [
        {
          "name": "stdout",
          "output_type": "stream",
          "text": [
            "The latitude is 40.7128\n",
            "The latitude of -34.0522 is in the Southern Hemisphere\n"
          ]
        }
      ],
      "source": [
        "coords = [(40.7128, 74.0060), (-34.0522, 118.2437), (41.8781, 87.6298)]\n",
        "for i, coord in enumerate(coords):\n",
        "  lat, lon = coord\n",
        "  if lat < 0:\n",
        "    print(f\"The latitude of {lat} is in the Southern Hemisphere\")\n",
        "    break\n",
        "  else:\n",
        "    print(f\"The latitude is {lat}\")"
      ]
    },
    {
      "cell_type": "markdown",
      "id": "15",
      "metadata": {
        "id": "15"
      },
      "source": [
        "## Exercise 8: Conditional Logic in Loops\n",
        "\n",
        "- Create a list of coordinates and use a `for` loop to iterate over them.\n",
        "- Use an `if-elif-else` statement inside the loop to classify each coordinate based on its longitude:\n",
        "  - Print `\"Eastern Hemisphere\"` if the longitude is greater than 0.\n",
        "  - Print `\"Western Hemisphere\"` if the longitude is less than 0."
      ]
    },
    {
      "cell_type": "code",
      "execution_count": 4,
      "id": "16",
      "metadata": {
        "id": "16"
      },
      "outputs": [
        {
          "name": "stdout",
          "output_type": "stream",
          "text": [
            "The longitude of 74.006 is in the Eastern Hemisphere\n",
            "The longitude of 118.2437 is in the Eastern Hemisphere\n",
            "The longitude of 87.6298 is in the Eastern Hemisphere\n"
          ]
        }
      ],
      "source": [
        "coords = [(40.7128, 74.0060), (-34.0522, 118.2437), (41.8781, 87.6298)]\n",
        "for i, coord in enumerate(coords):\n",
        "  lat, lon = coord\n",
        "  if lon > 0:\n",
        "    print(f\"The longitude of {lon} is in the Eastern Hemisphere\")\n",
        "  elif lon < 0:\n",
        "    print(f\"The longitude of {lon} is in the Western Hemisphere\")\n",
        "  else:\n",
        "    print(f\"Prime Meridian\")"
      ]
    },
    {
      "cell_type": "markdown",
      "id": "17",
      "metadata": {
        "id": "17"
      },
      "source": [
        "## Exercise 9: Filtering Data with Combined Loops and Conditionals\n",
        "\n",
        "- Given a list of coordinates, filter out and store only those located in the Southern Hemisphere (latitude < 0).\n",
        "- Count the number of coordinates that meet this condition and print the result."
      ]
    },
    {
      "cell_type": "code",
      "execution_count": 5,
      "id": "18",
      "metadata": {
        "id": "18"
      },
      "outputs": [
        {
          "name": "stdout",
          "output_type": "stream",
          "text": [
            "[(-34.0522, 118.2437)]\n"
          ]
        }
      ],
      "source": [
        "coords = [(40.7128, 74.0060), (-34.0522, 118.2437), (41.8781, 87.6298)]\n",
        "southern_coords = []\n",
        "for i, coord in enumerate(coords):\n",
        "  lat, lon = coord\n",
        "  if lat < 0:\n",
        "    southern_coords.append(coord)\n",
        "\n",
        "print(southern_coords)"
      ]
    },
    {
      "cell_type": "markdown",
      "id": "19",
      "metadata": {
        "id": "19"
      },
      "source": [
        "## Exercise 10: Generating and Analyzing Random Coordinates\n",
        "\n",
        "- Write a program that generates random coordinates (latitude between [-90, 90] degrees and longitude between [-180, 180] degrees).\n",
        "- Use a `while` loop to keep generating coordinates until a pair with both latitude and longitude greater than 50 is generated.\n",
        "- Print each generated coordinate and the final coordinate that meets the condition."
      ]
    },
    {
      "cell_type": "code",
      "execution_count": 8,
      "id": "20",
      "metadata": {
        "id": "20"
      },
      "outputs": [
        {
          "name": "stdout",
          "output_type": "stream",
          "text": [
            "Latitude: 82.2536, Longitude: -56.1568\n",
            "Latitude: 56.2219, Longitude: -28.0964\n",
            "Latitude: 68.0310, Longitude: -2.1841\n",
            "Latitude: 18.0999, Longitude: 48.4479\n",
            "Latitude: -5.2450, Longitude: 36.0124\n",
            "Latitude: 70.1954, Longitude: -13.7061\n",
            "Latitude: -77.0502, Longitude: -2.0545\n",
            "Latitude: -57.8591, Longitude: -86.7069\n",
            "Latitude: 16.1764, Longitude: 139.5589\n",
            "Latitude: -88.2960, Longitude: 50.6758\n",
            "Latitude: -6.4301, Longitude: 42.2014\n",
            "Latitude: 9.4522, Longitude: 164.7458\n",
            "Latitude: -13.4079, Longitude: 129.9052\n",
            "Latitude: 48.6316, Longitude: -12.3496\n",
            "Latitude: -33.3393, Longitude: 157.6588\n",
            "Latitude: 6.8878, Longitude: -41.0980\n",
            "Latitude: -56.2245, Longitude: 126.8121\n",
            "Latitude: -88.1468, Longitude: 138.4079\n",
            "Latitude: -17.5464, Longitude: 74.1935\n",
            "Latitude: -68.9104, Longitude: 137.5485\n",
            "Latitude: 6.5839, Longitude: 14.0547\n",
            "Latitude: 32.1004, Longitude: 14.3339\n",
            "Latitude: 47.9137, Longitude: -24.3196\n",
            "Latitude: -46.5396, Longitude: -158.6724\n",
            "Latitude: 57.6518, Longitude: 106.3417\n"
          ]
        }
      ],
      "source": [
        "import random\n",
        "\n",
        "def generate_coordinate():\n",
        "  return (random.uniform(-90.0, 90.0), random.uniform(-180.0, 180.0))\n",
        "\n",
        "while True:\n",
        "  lat, lon = generate_coordinate()\n",
        "  print(f\"Latitude: {lat:.4f}, Longitude: {lon:.4f}\")\n",
        "  if lat > 50 and lon > 50:\n",
        "    break;"
      ]
    },
    {
      "cell_type": "code",
      "execution_count": null,
      "id": "b3ec7dd8",
      "metadata": {},
      "outputs": [],
      "source": []
    }
  ],
  "metadata": {
    "colab": {
      "provenance": []
    },
    "kernelspec": {
      "display_name": "OpenGeo",
      "language": "python",
      "name": "python3"
    },
    "language_info": {
      "codemirror_mode": {
        "name": "ipython",
        "version": 3
      },
      "file_extension": ".py",
      "mimetype": "text/x-python",
      "name": "python",
      "nbconvert_exporter": "python",
      "pygments_lexer": "ipython3",
      "version": "3.11.10"
    }
  },
  "nbformat": 4,
  "nbformat_minor": 5
}
